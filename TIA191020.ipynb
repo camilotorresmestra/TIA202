{
  "nbformat": 4,
  "nbformat_minor": 0,
  "metadata": {
    "colab": {
      "name": "TIA191020.ipynb",
      "provenance": [],
      "toc_visible": true,
      "authorship_tag": "ABX9TyOLh1KrRSDuieziWOIP4gqJ",
      "include_colab_link": true
    },
    "kernelspec": {
      "name": "python3",
      "display_name": "Python 3"
    }
  },
  "cells": [
    {
      "cell_type": "markdown",
      "metadata": {
        "id": "view-in-github",
        "colab_type": "text"
      },
      "source": [
        "<a href=\"https://colab.research.google.com/github/camilotorresmestra/TIA202/blob/main/TIA191020.ipynb\" target=\"_parent\"><img src=\"https://colab.research.google.com/assets/colab-badge.svg\" alt=\"Open In Colab\"/></a>"
      ]
    },
    {
      "cell_type": "markdown",
      "metadata": {
        "id": "ybq5rvhccdGO"
      },
      "source": [
        "#Extracción de Características\n",
        "\n",
        "\n",
        "*   Moemnto generales\n",
        "*   Absolutos\n",
        "*   Centrales, normalizados (función de probabilidad=1)\n",
        "\n",
        "No son invariantes pero si los centralizo de tal manera q el centroide esté en la posición (0,0) los vuelvo invariantes a traslación.\n",
        "\n",
        "**Entropía:** Grado de desorden en la función de probabilidad. Medida del contenido de información en una variable aleatoria.\n",
        "\n",
        "$ \\Sigma^{A-1}_{i=0}log_2p(v_i)$"
      ]
    },
    {
      "cell_type": "markdown",
      "metadata": {
        "id": "L5tssKpnda9z"
      },
      "source": [
        "En openCV se pueden implementar los \n",
        "momentos de Hugh?\n",
        "\n",
        "Lo que debe quedar claro es cuál es la variable y cuál es la probabilidad de la variable. \n",
        "\n",
        "---\n",
        "\n",
        "Queremos calcular los momentos d eorden 1 gneerales:\n",
        "**Ejemplo**:Calcular los momentos generales de orden 1 para una función discreta de -4 a 5.\n",
        "\n",
        "\n",
        "$m_v=\\Sigma_{i=0}^{a}v_i\\cdot p(v_i)$\n",
        "\n",
        "![ss1](/content/ss1.png \"Título\")"
      ]
    },
    {
      "cell_type": "code",
      "metadata": {
        "id": "kR7mm62neKxw"
      },
      "source": [
        ""
      ],
      "execution_count": null,
      "outputs": []
    }
  ]
}